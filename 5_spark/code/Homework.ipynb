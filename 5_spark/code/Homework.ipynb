{
 "cells": [
  {
   "cell_type": "code",
   "execution_count": 1,
   "id": "c4ae0546",
   "metadata": {},
   "outputs": [
    {
     "name": "stderr",
     "output_type": "stream",
     "text": [
      "WARNING: An illegal reflective access operation has occurred\n",
      "WARNING: Illegal reflective access by org.apache.spark.unsafe.Platform (file:/home/ankur/spark/spark-3.0.3-bin-hadoop3.2/jars/spark-unsafe_2.12-3.0.3.jar) to constructor java.nio.DirectByteBuffer(long,int)\n",
      "WARNING: Please consider reporting this to the maintainers of org.apache.spark.unsafe.Platform\n",
      "WARNING: Use --illegal-access=warn to enable warnings of further illegal reflective access operations\n",
      "WARNING: All illegal access operations will be denied in a future release\n",
      "22/02/27 06:35:39 WARN NativeCodeLoader: Unable to load native-hadoop library for your platform... using builtin-java classes where applicable\n",
      "Using Spark's default log4j profile: org/apache/spark/log4j-defaults.properties\n",
      "Setting default log level to \"WARN\".\n",
      "To adjust logging level use sc.setLogLevel(newLevel). For SparkR, use setLogLevel(newLevel).\n"
     ]
    }
   ],
   "source": [
    "import pyspark\n",
    "from pyspark.sql import SparkSession\n",
    "\n",
    "spark = (SparkSession.builder\n",
    "         .master(\"local[*]\")\n",
    "         .appName(\"Taxi Trips To Parquet\")\n",
    "         .getOrCreate()\n",
    "        )"
   ]
  },
  {
   "cell_type": "code",
   "execution_count": 7,
   "id": "ab2d7246",
   "metadata": {},
   "outputs": [
    {
     "name": "stdout",
     "output_type": "stream",
     "text": [
      "+-----------------+--------------------+-------------------+-------------------+------------+------------+-------+\n",
      "|hvfhs_license_num|dispatching_base_num|    pickup_datetime|   dropoff_datetime|PULocationID|DOLocationID|SR_Flag|\n",
      "+-----------------+--------------------+-------------------+-------------------+------------+------------+-------+\n",
      "|           HV0003|              B02764|2021-02-01 00:10:40|2021-02-01 00:21:09|          35|          39|   null|\n",
      "|           HV0003|              B02764|2021-02-01 00:27:23|2021-02-01 00:44:01|          39|          35|   null|\n",
      "|           HV0005|              B02510|2021-02-01 00:28:38|2021-02-01 00:38:27|          39|          91|   null|\n",
      "|           HV0005|              B02510|2021-02-01 00:43:37|2021-02-01 01:23:20|          91|         228|   null|\n",
      "|           HV0003|              B02872|2021-02-01 00:08:42|2021-02-01 00:17:57|         126|         250|   null|\n",
      "|           HV0003|              B02872|2021-02-01 00:26:02|2021-02-01 00:42:51|         208|         243|   null|\n",
      "|           HV0003|              B02872|2021-02-01 00:45:50|2021-02-01 01:02:50|         243|         220|   null|\n",
      "|           HV0003|              B02764|2021-02-01 00:06:42|2021-02-01 00:31:50|          49|          37|   null|\n",
      "|           HV0003|              B02764|2021-02-01 00:34:34|2021-02-01 00:58:13|          37|          76|   null|\n",
      "|           HV0005|              B02510|2021-02-01 00:03:43|2021-02-01 00:39:37|          80|         241|   null|\n",
      "|           HV0005|              B02510|2021-02-01 00:55:36|2021-02-01 01:08:39|         174|          51|   null|\n",
      "|           HV0005|              B02510|2021-02-01 00:06:13|2021-02-01 00:33:45|         235|         129|   null|\n",
      "|           HV0005|              B02510|2021-02-01 00:42:24|2021-02-01 01:11:31|         129|         169|   null|\n",
      "|           HV0003|              B02764|2021-02-01 00:07:05|2021-02-01 00:20:53|         226|          82|   null|\n",
      "|           HV0003|              B02764|2021-02-01 00:28:56|2021-02-01 00:33:59|          82|         129|   null|\n",
      "|           HV0003|              B02764|2021-02-01 00:44:53|2021-02-01 01:07:54|           7|          79|   null|\n",
      "|           HV0003|              B02888|2021-02-01 00:17:55|2021-02-01 00:34:41|           4|         170|   null|\n",
      "|           HV0003|              B02888|2021-02-01 00:38:14|2021-02-01 00:59:20|         164|          42|   null|\n",
      "|           HV0004|              B02800|2021-02-01 00:08:04|2021-02-01 00:24:41|         237|           4|   null|\n",
      "|           HV0004|              B02800|2021-02-01 00:30:44|2021-02-01 00:41:26|         107|          45|   null|\n",
      "+-----------------+--------------------+-------------------+-------------------+------------+------------+-------+\n",
      "only showing top 20 rows\n",
      "\n"
     ]
    }
   ],
   "source": [
    "from pyspark.sql import types\n",
    "\n",
    "schema=types.StructType([\n",
    "    types.StructField(\"hvfhs_license_num\", types.StringType(), True),\n",
    "    types.StructField(\"dispatching_base_num\", types.StringType(), True),\n",
    "    types.StructField(\"pickup_datetime\", types.TimestampType(), True),\n",
    "    types.StructField(\"dropoff_datetime\", types.TimestampType(), True),\n",
    "    types.StructField(\"PULocationID\", types.IntegerType(), True),\n",
    "    types.StructField(\"DOLocationID\", types.IntegerType(), True),\n",
    "    types.StructField(\"SR_Flag\", types.IntegerType(), True)\n",
    "    ])\n",
    "\n",
    "\n",
    "fhv_df = (spark.read\n",
    "          .option(\"header\", \"true\")\n",
    "          .schema(schema)\n",
    "          .csv(\"data/raw/fhvhv/2021/02/\")\n",
    "         )\n",
    "fhv_df.show()"
   ]
  },
  {
   "cell_type": "code",
   "execution_count": 8,
   "id": "66600d56",
   "metadata": {
    "scrolled": true
   },
   "outputs": [
    {
     "name": "stdout",
     "output_type": "stream",
     "text": [
      "root\n",
      " |-- hvfhs_license_num: string (nullable = true)\n",
      " |-- dispatching_base_num: string (nullable = true)\n",
      " |-- pickup_datetime: timestamp (nullable = true)\n",
      " |-- dropoff_datetime: timestamp (nullable = true)\n",
      " |-- PULocationID: integer (nullable = true)\n",
      " |-- DOLocationID: integer (nullable = true)\n",
      " |-- SR_Flag: integer (nullable = true)\n",
      "\n"
     ]
    }
   ],
   "source": [
    "fhv_df.printSchema()"
   ]
  },
  {
   "cell_type": "code",
   "execution_count": 9,
   "id": "5c8bb63e",
   "metadata": {},
   "outputs": [
    {
     "name": "stderr",
     "output_type": "stream",
     "text": [
      "                                                                                \r"
     ]
    }
   ],
   "source": [
    "fhv_df.repartition(24).write.parquet('data/pq/fhvhv/2021/02', mode='overwrite')"
   ]
  },
  {
   "cell_type": "code",
   "execution_count": 11,
   "id": "de539bab",
   "metadata": {},
   "outputs": [],
   "source": [
    "fhv_df=spark.read.parquet(\"data/pq/fhvhv/2021/02\")"
   ]
  },
  {
   "cell_type": "code",
   "execution_count": 22,
   "id": "43791993",
   "metadata": {
    "scrolled": true
   },
   "outputs": [
    {
     "name": "stderr",
     "output_type": "stream",
     "text": [
      "                                                                                \r"
     ]
    },
    {
     "data": {
      "text/plain": [
       "367170"
      ]
     },
     "execution_count": 22,
     "metadata": {},
     "output_type": "execute_result"
    }
   ],
   "source": [
    "from pyspark.sql import functions as F\n",
    "\n",
    "\n",
    "fhv_df.filter(F.date_trunc('day', 'pickup_datetime') == '2021-02-15 00:00:00' ).count()"
   ]
  },
  {
   "cell_type": "code",
   "execution_count": 32,
   "id": "9fe1cbfb",
   "metadata": {},
   "outputs": [
    {
     "name": "stderr",
     "output_type": "stream",
     "text": [
      "[Stage 48:=============================>                            (2 + 2) / 4]\r"
     ]
    },
    {
     "name": "stdout",
     "output_type": "stream",
     "text": [
      "+-----------+------------------+\n",
      "|pickup_date|    duration_hours|\n",
      "+-----------+------------------+\n",
      "| 2021-02-11|20.983333333333334|\n",
      "+-----------+------------------+\n",
      "only showing top 1 row\n",
      "\n"
     ]
    },
    {
     "name": "stderr",
     "output_type": "stream",
     "text": [
      "\r",
      "[Stage 49:==========================================>           (157 + 4) / 200]\r",
      "\r",
      "                                                                                \r"
     ]
    }
   ],
   "source": [
    "fhv_duration_df = (fhv_df\n",
    "                  .withColumn(\"duration_hours\", (F.col('dropoff_datetime').cast('long') - F.col('pickup_datetime').cast('long'))/3600 )\n",
    "                   .withColumn(\"pickup_date\", F.col('pickup_datetime').cast('date') )\n",
    "                   .groupby('pickup_date')\n",
    "                   .agg(F.max('duration_hours').alias('duration_hours'))\n",
    "                   .orderBy('duration_hours', ascending=False)\n",
    "                  )\n",
    "\n",
    "fhv_duration_df.show(1)"
   ]
  },
  {
   "cell_type": "code",
   "execution_count": 35,
   "id": "f8e36ce2",
   "metadata": {
    "scrolled": true
   },
   "outputs": [
    {
     "name": "stderr",
     "output_type": "stream",
     "text": [
      "\r",
      "[Stage 60:>                                                         (0 + 4) / 4]\r"
     ]
    },
    {
     "name": "stdout",
     "output_type": "stream",
     "text": [
      "+--------------------+-------+\n",
      "|dispatching_base_num|  count|\n",
      "+--------------------+-------+\n",
      "|              B02510|3233664|\n",
      "+--------------------+-------+\n",
      "only showing top 1 row\n",
      "\n"
     ]
    },
    {
     "name": "stderr",
     "output_type": "stream",
     "text": [
      "\r",
      "[Stage 61:=========================================>            (155 + 4) / 200]\r",
      "\r",
      "                                                                                \r"
     ]
    }
   ],
   "source": [
    "fhv_freq_df = (fhv_df\n",
    "               .groupby('dispatching_base_num')\n",
    "               .count()\n",
    "               .orderBy('count', ascending=False)\n",
    "              )\n",
    "\n",
    "fhv_freq_df.show(1)"
   ]
  },
  {
   "cell_type": "code",
   "execution_count": 37,
   "id": "fce25b62",
   "metadata": {},
   "outputs": [
    {
     "name": "stdout",
     "output_type": "stream",
     "text": [
      "--2022-02-27 08:48:06--  https://s3.amazonaws.com/nyc-tlc/misc/taxi+_zone_lookup.csv\n",
      "Resolving s3.amazonaws.com (s3.amazonaws.com)... 54.231.140.248\n",
      "Connecting to s3.amazonaws.com (s3.amazonaws.com)|54.231.140.248|:443... connected.\n",
      "HTTP request sent, awaiting response... 200 OK\n",
      "Length: 12322 (12K) [application/octet-stream]\n",
      "Saving to: ‘taxi_zone_lookup.csv’\n",
      "\n",
      "taxi_zone_lookup.cs 100%[===================>]  12.03K  --.-KB/s    in 0s      \n",
      "\n",
      "2022-02-27 08:48:07 (58.3 MB/s) - ‘taxi_zone_lookup.csv’ saved [12322/12322]\n",
      "\n"
     ]
    }
   ],
   "source": [
    "!wget https://s3.amazonaws.com/nyc-tlc/misc/taxi+_zone_lookup.csv -O taxi_zone_lookup.csv"
   ]
  },
  {
   "cell_type": "code",
   "execution_count": 40,
   "id": "e330a392",
   "metadata": {},
   "outputs": [],
   "source": [
    "zones_df = spark.read.option(\"header\",\"true\").option(\"inferSchema\", \"true\").csv('taxi_zone_lookup.csv')\n",
    "zones_df.write.parquet(\"data/pq/zones/\", mode='overwrite')"
   ]
  },
  {
   "cell_type": "code",
   "execution_count": 41,
   "id": "1e0a361f",
   "metadata": {
    "scrolled": true
   },
   "outputs": [
    {
     "name": "stdout",
     "output_type": "stream",
     "text": [
      "root\n",
      " |-- LocationID: integer (nullable = true)\n",
      " |-- Borough: string (nullable = true)\n",
      " |-- Zone: string (nullable = true)\n",
      " |-- service_zone: string (nullable = true)\n",
      "\n"
     ]
    }
   ],
   "source": [
    "zones_df.printSchema()"
   ]
  },
  {
   "cell_type": "code",
   "execution_count": 67,
   "id": "2844e220",
   "metadata": {},
   "outputs": [
    {
     "name": "stderr",
     "output_type": "stream",
     "text": [
      "[Stage 128:==========================================>              (3 + 1) / 4]\r"
     ]
    },
    {
     "name": "stdout",
     "output_type": "stream",
     "text": [
      "+---------------------------+------+\n",
      "|pair                       |count |\n",
      "+---------------------------+------+\n",
      "|Crown Heights North/Unknown|177801|\n",
      "+---------------------------+------+\n",
      "only showing top 1 row\n",
      "\n"
     ]
    },
    {
     "name": "stderr",
     "output_type": "stream",
     "text": [
      "\r",
      "                                                                                \r"
     ]
    }
   ],
   "source": [
    "join_df = (fhv_df\n",
    "           .join(\n",
    "               zones_df.withColumnRenamed('Zone', 'pickup_zone')\n",
    "               , fhv_df.PULocationID == zones_df.LocationID, how='left'\n",
    "                )\n",
    "           .join(\n",
    "               zones_df.withColumnRenamed('Zone', 'dropoff_zone')\n",
    "               , fhv_df.DOLocationID == zones_df.LocationID, how='left'\n",
    "                )\n",
    "           .select(['pickup_zone', 'dropoff_zone'])\n",
    "           .withColumn('pickup_zone', F.coalesce('pickup_zone', F.lit('Unknown')))\n",
    "           .withColumn('dropoff_zone', F.coalesce('dropoff_zone', F.lit('Unknown')))\n",
    "           .withColumn('pair', F.concat(F.col('pickup_zone'), F.lit('/'), F.col('dropoff_zone')))\n",
    "          .groupBy('pair')\n",
    "          .count()\n",
    "          .orderBy('count', ascending=False)\n",
    "          )\n",
    "\n",
    "# pd_pair_df = (join_df\n",
    "#               .withColumn('pair', F.concat(F.col('pickup_zone'), F.lit('/'), F.col('dropoff_zone')))\n",
    "#               .groupBy('pair')\n",
    "#               .count()\n",
    "#               .orderBy('count', ascending=False)\n",
    "#              )\n",
    "\n",
    "join_df.show(1, False)"
   ]
  },
  {
   "cell_type": "code",
   "execution_count": 54,
   "id": "3fb9fb7c",
   "metadata": {},
   "outputs": [],
   "source": [
    "fhv_df.registerTempTable('fhv')\n",
    "zones_df.registerTempTable('zones')"
   ]
  },
  {
   "cell_type": "code",
   "execution_count": 86,
   "id": "d04e4113",
   "metadata": {
    "scrolled": true
   },
   "outputs": [
    {
     "name": "stderr",
     "output_type": "stream",
     "text": [
      "[Stage 171:==============>                                          (1 + 3) / 4]\r"
     ]
    },
    {
     "name": "stdout",
     "output_type": "stream",
     "text": [
      "+---------------------------+-----+\n",
      "|pair                       |count|\n",
      "+---------------------------+-----+\n",
      "|East New York/East New York|45041|\n",
      "+---------------------------+-----+\n",
      "only showing top 1 row\n",
      "\n"
     ]
    },
    {
     "name": "stderr",
     "output_type": "stream",
     "text": [
      "\r",
      "[Stage 172:==========================================>          (160 + 4) / 200]\r",
      "\r",
      "                                                                                \r"
     ]
    }
   ],
   "source": [
    "spark.sql(\n",
    "\"\"\"\n",
    "SELECT\n",
    "    CONCAT(\n",
    "        COALESCE(p.Zone, 'Unknown'),\n",
    "        '/',\n",
    "        COALESCE(d.Zone, 'Unknown')\n",
    "        ) AS pair,\n",
    "        count(*) as count\n",
    "FROM\n",
    "    fhv f\n",
    "LEFT JOIN\n",
    "    zones as p\n",
    "    ON\n",
    "        f.PULocationID = p.LocationID\n",
    "LEFT JOIN \n",
    "    zones as d\n",
    "    ON\n",
    "        f.DOLocationID = d.LocationID\n",
    "group by pair\n",
    "order by count desc\n",
    "\"\"\"\n",
    ").show(1, False)"
   ]
  }
 ],
 "metadata": {
  "kernelspec": {
   "display_name": "Python 3 (ipykernel)",
   "language": "python",
   "name": "python3"
  },
  "language_info": {
   "codemirror_mode": {
    "name": "ipython",
    "version": 3
   },
   "file_extension": ".py",
   "mimetype": "text/x-python",
   "name": "python",
   "nbconvert_exporter": "python",
   "pygments_lexer": "ipython3",
   "version": "3.9.7"
  }
 },
 "nbformat": 4,
 "nbformat_minor": 5
}
